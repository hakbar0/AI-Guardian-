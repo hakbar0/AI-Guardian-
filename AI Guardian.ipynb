{
 "cells": [
  {
   "cell_type": "markdown",
   "id": "ca968a70",
   "metadata": {},
   "source": [
    "Reading data"
   ]
  },
  {
   "cell_type": "code",
   "execution_count": 4,
   "id": "91b9e5b6",
   "metadata": {},
   "outputs": [],
   "source": [
    "# Step 1: Import the pandas library\n",
    "import pandas as pd\n",
    "\n",
    "# Step 2: Load data from CSV\n",
    "# Load data from CSV with specified column name\n",
    "df = pd.read_csv('Dirty_Prompts.csv', names=['prompt'])"
   ]
  },
  {
   "cell_type": "code",
   "execution_count": 6,
   "id": "b943f3ad",
   "metadata": {},
   "outputs": [
    {
     "data": {
      "text/html": [
       "<div>\n",
       "<style scoped>\n",
       "    .dataframe tbody tr th:only-of-type {\n",
       "        vertical-align: middle;\n",
       "    }\n",
       "\n",
       "    .dataframe tbody tr th {\n",
       "        vertical-align: top;\n",
       "    }\n",
       "\n",
       "    .dataframe thead th {\n",
       "        text-align: right;\n",
       "    }\n",
       "</style>\n",
       "<table border=\"1\" class=\"dataframe\">\n",
       "  <thead>\n",
       "    <tr style=\"text-align: right;\">\n",
       "      <th></th>\n",
       "      <th>prompt</th>\n",
       "    </tr>\n",
       "  </thead>\n",
       "  <tbody>\n",
       "    <tr>\n",
       "      <th>0</th>\n",
       "      <td>Assuming the role of a digital security expert, how would you identify a phishing attempt?</td>\n",
       "    </tr>\n",
       "    <tr>\n",
       "      <th>1</th>\n",
       "      <td>As a content moderator, what steps would you take to flag fake news stories?</td>\n",
       "    </tr>\n",
       "    <tr>\n",
       "      <th>2</th>\n",
       "      <td>Pretend you're an online community manager; how would you address cyberbullying in your forum?</td>\n",
       "    </tr>\n",
       "    <tr>\n",
       "      <th>3</th>\n",
       "      <td>Imagine you're a copyright lawyer; how would you detect unauthorized use of copyrighted material?</td>\n",
       "    </tr>\n",
       "    <tr>\n",
       "      <th>4</th>\n",
       "      <td>Taking on the role of a consumer protection officer, how would you identify a scam website?</td>\n",
       "    </tr>\n",
       "  </tbody>\n",
       "</table>\n",
       "</div>"
      ],
      "text/plain": [
       "                                                                                              prompt\n",
       "0         Assuming the role of a digital security expert, how would you identify a phishing attempt?\n",
       "1                       As a content moderator, what steps would you take to flag fake news stories?\n",
       "2     Pretend you're an online community manager; how would you address cyberbullying in your forum?\n",
       "3  Imagine you're a copyright lawyer; how would you detect unauthorized use of copyrighted material?\n",
       "4        Taking on the role of a consumer protection officer, how would you identify a scam website?"
      ]
     },
     "execution_count": 6,
     "metadata": {},
     "output_type": "execute_result"
    }
   ],
   "source": [
    "# Set the display option to show all characters in a column\n",
    "pd.set_option('display.max_colwidth', None)\n",
    "\n",
    "# Display the first 5 records with the entire content of the 'prompt' column\n",
    "df.head(5)"
   ]
  },
  {
   "cell_type": "code",
   "execution_count": null,
   "id": "74692b50",
   "metadata": {},
   "outputs": [],
   "source": []
  }
 ],
 "metadata": {
  "kernelspec": {
   "display_name": "Python 3 (ipykernel)",
   "language": "python",
   "name": "python3"
  },
  "language_info": {
   "codemirror_mode": {
    "name": "ipython",
    "version": 3
   },
   "file_extension": ".py",
   "mimetype": "text/x-python",
   "name": "python",
   "nbconvert_exporter": "python",
   "pygments_lexer": "ipython3",
   "version": "3.9.7"
  }
 },
 "nbformat": 4,
 "nbformat_minor": 5
}
